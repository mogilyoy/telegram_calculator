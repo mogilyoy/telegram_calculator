{
  "cells": [
    {
      "cell_type": "markdown",
      "metadata": {
        "id": "25T-vse3ahAU"
      },
      "source": [
        "images to csv convert"
      ]
    },
    {
      "cell_type": "code",
      "execution_count": 1,
      "metadata": {
        "id": "4VKLGvKxahAd"
      },
      "outputs": [],
      "source": [
        "import pandas as pd\n",
        "import numpy as np\n",
        "import os\n",
        "import matplotlib.pyplot as plt\n",
        "import cv2\n",
        "from os import listdir\n",
        "import zipfile\n",
        "from os.path import join, isfile\n",
        "from PIL import Image\n",
        "import gc"
      ]
    },
    {
      "cell_type": "code",
      "source": [
        "from google.colab import drive\n",
        "drive.mount('/content/drive')"
      ],
      "metadata": {
        "colab": {
          "base_uri": "https://localhost:8080/"
        },
        "id": "Fxc2cFhNa-UP",
        "outputId": "7eca0f9b-73d3-4e3f-917a-a16ab9ea6bd3"
      },
      "execution_count": 2,
      "outputs": [
        {
          "output_type": "stream",
          "name": "stdout",
          "text": [
            "Mounted at /content/drive\n"
          ]
        }
      ]
    },
    {
      "cell_type": "markdown",
      "metadata": {
        "id": "5IWe_TXWahAl"
      },
      "source": [
        "A function to convert the image to np array"
      ]
    },
    {
      "cell_type": "code",
      "execution_count": 3,
      "metadata": {
        "id": "9OQakTySahAo"
      },
      "outputs": [],
      "source": [
        "\n",
        "\n",
        "def load_images(path):\n",
        "  train_data = []\n",
        "  for file in listdir(path):\n",
        "    img = cv2.imread(join(path,file), cv2.IMREAD_GRAYSCALE)\n",
        "    img = ~img\n",
        "    if img is not None:\n",
        "        _,thrsh = cv2.threshold(img, 127, 255, cv2.THRESH_BINARY) # Blacknwhite\n",
        "        cntr,_ = cv2.findContours(thrsh, cv2.RETR_EXTERNAL, cv2.CHAIN_APPROX_NONE) \n",
        "        cnt = sorted(cntr, key = lambda ctr:cv2.boundingRect(ctr)[0]) # Getting the Reactangle with the largest area\n",
        "        h = 28\n",
        "        w = 28\n",
        "        maxi = 0\n",
        "        for c in cnt:\n",
        "            x,y,w,h = cv2.boundingRect(c)\n",
        "            maxi = max(w*h,maxi)\n",
        "            if maxi == w*h:\n",
        "                x_max, y_max, h_max, w_max = x,y,h,w\n",
        "        im_crop = thrsh[y_max:y_max+h_max+10, x_max:x_max+w_max+10]\n",
        "        im_resize = cv2.resize(im_crop,(28,28))\n",
        "        im_resize = np.reshape(im_resize,(784,1))\n",
        "        train_data.append(im_resize)\n",
        "  return train_data"
      ]
    },
    {
      "cell_type": "markdown",
      "metadata": {
        "id": "6uXTzRsFahAs"
      },
      "source": [
        "A function to save data to csv"
      ]
    },
    {
      "cell_type": "code",
      "execution_count": 4,
      "metadata": {
        "id": "10olJvT5ahAu"
      },
      "outputs": [],
      "source": [
        "def load_to_csv(path, sign_name, csv_path):\n",
        "    data = []\n",
        "    data = load_images(path)\n",
        "    for i in range(0, len(data)):\n",
        "        data[i] = np.append(data[i], [sign_name])\n",
        "    df_minus = pd.DataFrame(data, index = None)\n",
        "    df_minus.to_csv(csv_path, index = None)"
      ]
    },
    {
      "cell_type": "markdown",
      "source": [
        "### Unzip data archieve"
      ],
      "metadata": {
        "id": "0xKToTu7vCIT"
      }
    },
    {
      "cell_type": "code",
      "execution_count": null,
      "metadata": {
        "colab": {
          "base_uri": "https://localhost:8080/"
        },
        "id": "_UfdfUjqahAx",
        "outputId": "7eaa2bf7-dfe0-45ae-f8d0-40185520255f"
      },
      "outputs": [
        {
          "output_type": "execute_result",
          "data": {
            "text/plain": [
              "['[/',\n",
              " '[/[_1_100_scaled_x1_2y1.png',\n",
              " '[/[_1_102_scaled_x1_2y1_2.png',\n",
              " '[/[_1_103_scaled_x1_2y1_2.png',\n",
              " '[/[_1_112_scaled_x1_2y1_3.png',\n",
              " '[/[_1_119_scaled_x1_2y1_3.png',\n",
              " '[/[_1_120_scaled_x1_2y1_2.png',\n",
              " '[/[_1_122_scaled_x1_3y1.png',\n",
              " '[/[_1_127.png',\n",
              " '[/[_1_12_scaled_x1_2y1_3.png']"
            ]
          },
          "metadata": {},
          "execution_count": 5
        }
      ],
      "source": [
        "# imgzip = zipfile.ZipFile(\"/content/drive/MyDrive/Colab Notebooks/handwritten_symb/aya.zip\")\n",
        "# inflist = imgzip.namelist()\n",
        "# inflist[:10]"
      ]
    },
    {
      "cell_type": "code",
      "source": [
        "# %%time\n",
        "# imgzip.extractall(path='/content/drive/MyDrive/Colab Notebooks/handwritten_symb')\n",
        "\n",
        "# 5520 sec + 3235 sec :)"
      ],
      "metadata": {
        "colab": {
          "base_uri": "https://localhost:8080/"
        },
        "id": "Yz7qDeeGbT6Q",
        "outputId": "6bc740c5-ff86-4e3f-ac87-d4491b60e229"
      },
      "execution_count": null,
      "outputs": [
        {
          "output_type": "stream",
          "name": "stdout",
          "text": [
            "CPU times: user 2min 7s, sys: 1min 13s, total: 3min 21s\n",
            "Wall time: 53min 55s\n"
          ]
        }
      ]
    },
    {
      "cell_type": "code",
      "source": [
        "names = ['%', '*', '+', '-', '0', '1', '2', '3', '7', '8', '9', '[', ']']\n",
        "\n",
        "for i in names:\n",
        "  imgzip = zipfile.ZipFile(f\"./{i}.zip\")\n",
        "  imgzip.extractall(path='./')"
      ],
      "metadata": {
        "id": "pO-0THD9aECS"
      },
      "execution_count": 15,
      "outputs": []
    },
    {
      "cell_type": "markdown",
      "source": [
        "### building the csvs"
      ],
      "metadata": {
        "id": "8IuXhYD0wGwp"
      }
    },
    {
      "cell_type": "code",
      "source": [
        "signes = ['%', '*', '+', '-', '0', '1', '2', '3', '4', '5', '6', '7', '8', '9', '[', ']']\n",
        "for i in signes:\n",
        "  load_to_csv(f'./{i}', i, f'./{i}.csv')\n",
        "  print(f'{i}.csv done!')"
      ],
      "metadata": {
        "colab": {
          "base_uri": "https://localhost:8080/"
        },
        "id": "sESefyn9bgIV",
        "outputId": "4bde85eb-c79d-4c1e-c612-c34778a35a43"
      },
      "execution_count": 17,
      "outputs": [
        {
          "output_type": "stream",
          "name": "stdout",
          "text": [
            "%.csv done!\n",
            "*.csv done!\n",
            "+.csv done!\n",
            "-.csv done!\n",
            "0.csv done!\n",
            "1.csv done!\n",
            "2.csv done!\n",
            "3.csv done!\n",
            "4.csv done!\n",
            "5.csv done!\n",
            "6.csv done!\n",
            "7.csv done!\n",
            "8.csv done!\n",
            "9.csv done!\n",
            "[.csv done!\n",
            "].csv done!\n"
          ]
        }
      ]
    },
    {
      "cell_type": "code",
      "source": [],
      "metadata": {
        "id": "mdAIAZMpcCe9"
      },
      "execution_count": null,
      "outputs": []
    }
  ],
  "metadata": {
    "kernelspec": {
      "display_name": "Python 3",
      "language": "python",
      "name": "python3"
    },
    "language_info": {
      "codemirror_mode": {
        "name": "ipython",
        "version": 3
      },
      "file_extension": ".py",
      "mimetype": "text/x-python",
      "name": "python",
      "nbconvert_exporter": "python",
      "pygments_lexer": "ipython3",
      "version": "3.10.6"
    },
    "orig_nbformat": 4,
    "vscode": {
      "interpreter": {
        "hash": "916dbcbb3f70747c44a77c7bcd40155683ae19c65e1c03b4aa3499c5328201f1"
      }
    },
    "colab": {
      "provenance": []
    }
  },
  "nbformat": 4,
  "nbformat_minor": 0
}