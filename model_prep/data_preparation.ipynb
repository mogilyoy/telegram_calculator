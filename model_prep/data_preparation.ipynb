{
  "cells": [
    {
      "cell_type": "markdown",
      "metadata": {
        "id": "25T-vse3ahAU"
      },
      "source": [
        "images to csv convert"
      ]
    },
    {
      "cell_type": "code",
      "execution_count": 2,
      "metadata": {
        "id": "4VKLGvKxahAd"
      },
      "outputs": [],
      "source": [
        "import pandas as pd\n",
        "import numpy as np\n",
        "import os\n",
        "import matplotlib.pyplot as plt\n",
        "import cv2\n",
        "from os import listdir\n",
        "import zipfile\n",
        "from os.path import join, isfile\n",
        "from PIL import Image\n",
        "import gc"
      ]
    },
    {
      "cell_type": "code",
      "source": [
        "from google.colab import drive\n",
        "drive.mount('/content/drive')"
      ],
      "metadata": {
        "colab": {
          "base_uri": "https://localhost:8080/"
        },
        "id": "Fxc2cFhNa-UP",
        "outputId": "7eca0f9b-73d3-4e3f-917a-a16ab9ea6bd3"
      },
      "execution_count": null,
      "outputs": [
        {
          "output_type": "stream",
          "name": "stdout",
          "text": [
            "Mounted at /content/drive\n"
          ]
        }
      ]
    },
    {
      "cell_type": "markdown",
      "metadata": {
        "id": "5IWe_TXWahAl"
      },
      "source": [
        "A function to convert the image to np array"
      ]
    },
    {
      "cell_type": "code",
      "execution_count": 27,
      "metadata": {
        "id": "9OQakTySahAo"
      },
      "outputs": [],
      "source": [
        "def load_images(path):\n",
        "  train_data = []\n",
        "  for file in listdir(path):\n",
        "    img = cv2.imread(f'{path}/{file}')\n",
        "    gray = cv2.cvtColor(img, cv2.COLOR_BGR2GRAY)\n",
        "    ret, thresh = cv2.threshold(gray, 127, 255, cv2.THRESH_BINARY)\n",
        "    letter_square = cv2.resize(thresh, (28, 28), interpolation=cv2.INTER_AREA)\n",
        "    letter_square = np.reshape(letter_square, (1, 784))\n",
        "    train_data.append(letter_square)\n",
        "  return train_data\n",
        "  "
      ]
    },
    {
      "cell_type": "markdown",
      "metadata": {
        "id": "6uXTzRsFahAs"
      },
      "source": [
        "A function to save data to csv"
      ]
    },
    {
      "cell_type": "code",
      "execution_count": 23,
      "metadata": {
        "id": "10olJvT5ahAu"
      },
      "outputs": [],
      "source": [
        "def load_to_csv(path, sign_name, csv_path):\n",
        "    data = []\n",
        "    data = load_images(path)\n",
        "    for i in range(0, len(data)):\n",
        "        data[i] = np.append(data[i], [sign_name])\n",
        "    df_minus = pd.DataFrame(data, index = None)\n",
        "    df_minus.to_csv(csv_path, index = None)\n",
        "    print(f'dataset has {df_minus.shape} shape')"
      ]
    },
    {
      "cell_type": "markdown",
      "source": [
        "### Unzip data archieve"
      ],
      "metadata": {
        "id": "0xKToTu7vCIT"
      }
    },
    {
      "cell_type": "code",
      "source": [
        "names = ['%', '*', '+', '-', '0', '1', '2', '3', '4', '5', '6', '7', '8', '9', '[', ']']\n",
        "\n",
        "for i in names:\n",
        "  imgzip = zipfile.ZipFile(f\"./{i}.zip\")\n",
        "  imgzip.extractall(path='./')"
      ],
      "metadata": {
        "id": "pO-0THD9aECS"
      },
      "execution_count": 7,
      "outputs": []
    },
    {
      "cell_type": "markdown",
      "source": [
        "### building the csvs"
      ],
      "metadata": {
        "id": "8IuXhYD0wGwp"
      }
    },
    {
      "cell_type": "code",
      "source": [
        "signes = ['%', '*', '+', '-', '0', '1', '2', '3', '4', '5', '6', '7', '8', '9', '[', ']']\n",
        "for i in signes:\n",
        "  load_to_csv(f'./{i}', i, f'./{i}.csv')\n",
        "  print(f'{i}.csv done!')"
      ],
      "metadata": {
        "colab": {
          "base_uri": "https://localhost:8080/"
        },
        "id": "sESefyn9bgIV",
        "outputId": "8e029738-b171-465e-bfbc-8a57567689e2"
      },
      "execution_count": 28,
      "outputs": [
        {
          "output_type": "stream",
          "name": "stdout",
          "text": [
            "dataset has (24165, 785) shape\n",
            "%.csv done!\n",
            "dataset has (20322, 785) shape\n",
            "*.csv done!\n",
            "dataset has (22086, 785) shape\n",
            "+.csv done!\n",
            "dataset has (21307, 785) shape\n",
            "-.csv done!\n",
            "dataset has (20250, 785) shape\n",
            "0.csv done!\n",
            "dataset has (20385, 785) shape\n",
            "1.csv done!\n",
            "dataset has (20538, 785) shape\n",
            "2.csv done!\n",
            "dataset has (21762, 785) shape\n",
            "3.csv done!\n",
            "dataset has (21690, 785) shape\n",
            "4.csv done!\n",
            "dataset has (20691, 785) shape\n",
            "5.csv done!\n",
            "dataset has (20601, 785) shape\n",
            "6.csv done!\n",
            "dataset has (19746, 785) shape\n",
            "7.csv done!\n",
            "dataset has (20637, 785) shape\n",
            "8.csv done!\n",
            "dataset has (20448, 785) shape\n",
            "9.csv done!\n",
            "dataset has (20169, 785) shape\n",
            "[.csv done!\n",
            "dataset has (19098, 785) shape\n",
            "].csv done!\n"
          ]
        }
      ]
    },
    {
      "cell_type": "code",
      "source": [],
      "metadata": {
        "id": "mdAIAZMpcCe9"
      },
      "execution_count": null,
      "outputs": []
    }
  ],
  "metadata": {
    "kernelspec": {
      "display_name": "Python 3",
      "language": "python",
      "name": "python3"
    },
    "language_info": {
      "codemirror_mode": {
        "name": "ipython",
        "version": 3
      },
      "file_extension": ".py",
      "mimetype": "text/x-python",
      "name": "python",
      "nbconvert_exporter": "python",
      "pygments_lexer": "ipython3",
      "version": "3.10.6"
    },
    "orig_nbformat": 4,
    "vscode": {
      "interpreter": {
        "hash": "916dbcbb3f70747c44a77c7bcd40155683ae19c65e1c03b4aa3499c5328201f1"
      }
    },
    "colab": {
      "provenance": []
    }
  },
  "nbformat": 4,
  "nbformat_minor": 0
}